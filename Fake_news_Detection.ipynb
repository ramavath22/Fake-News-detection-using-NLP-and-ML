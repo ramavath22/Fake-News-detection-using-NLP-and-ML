{
 "cells": [
  {
   "cell_type": "code",
   "execution_count": null,
   "metadata": {
    "colab": {
     "base_uri": "https://localhost:8080/"
    },
    "id": "UN0P8Hz7Am7J",
    "outputId": "57ef740f-b109-4f3d-8c8e-7ffd530ecadf"
   },
   "outputs": [],
   "source": [
    "!pip install --upgrade transformers sentence-transformers"
   ]
  },
  {
   "cell_type": "code",
   "execution_count": null,
   "metadata": {
    "colab": {
     "base_uri": "https://localhost:8080/"
    },
    "id": "zCtP_NguBv5X",
    "outputId": "c73f00a6-8f5c-4351-cd3a-a59554ed74d4"
   },
   "outputs": [],
   "source": [
    "!pip install torch scikit-learn pandas streamlit\n"
   ]
  },
  {
   "cell_type": "code",
   "execution_count": null,
   "metadata": {
    "id": "I9ZAWo9SB1NN"
   },
   "outputs": [],
   "source": [
    "import pandas as pd\n",
    "import numpy as np\n",
    "import torch\n",
    "from transformers import BertTokenizer, BertForSequenceClassification, Trainer, TrainingArguments\n",
    "from sklearn.model_selection import train_test_split\n",
    "from sklearn.metrics import accuracy_score, precision_recall_fscore_support\n",
    "import re\n"
   ]
  },
  {
   "cell_type": "code",
   "execution_count": null,
   "metadata": {
    "id": "YdHC8VVqB1Se"
   },
   "outputs": [],
   "source": [
    "def clean_text(text):\n",
    "    text = re.sub(r'\\W', ' ', text)  # Remove special chars\n",
    "    text = re.sub(r'\\s+[a-zA-Z]\\s+', ' ', text)  # Remove single characters\n",
    "    text = re.sub(r'\\^[a-zA-Z]\\s+', ' ', text)  # Remove single characters at start\n",
    "    text = re.sub(r'\\s+', ' ', text)  # Remove multiple spaces\n",
    "    return text.strip().lower()\n"
   ]
  },
  {
   "cell_type": "code",
   "execution_count": null,
   "metadata": {
    "colab": {
     "base_uri": "https://localhost:8080/",
     "height": 206
    },
    "id": "Y_LN4m0DCf0O",
    "outputId": "25d523d2-6fa2-4954-b6e1-e091a1b3991e"
   },
   "outputs": [],
   "source": [
    "true_df = pd.read_csv(\"true.csv\").head(100)\n",
    "fake_df = pd.read_csv(\"fake.csv\").head(100)\n",
    "\n",
    "true_df['label'] = 1\n",
    "fake_df['label'] = 0\n",
    "\n",
    "df = pd.concat([true_df, fake_df], ignore_index=True)\n",
    "df['text'] = df['title'] + \" \" + df['text']\n",
    "df['text'] = df['text'].apply(clean_text)\n",
    "\n",
    "df = df[['text', 'label']]\n",
    "df.head()\n"
   ]
  },
  {
   "cell_type": "code",
   "execution_count": null,
   "metadata": {
    "colab": {
     "base_uri": "https://localhost:8080/",
     "height": 249,
     "referenced_widgets": [
      "f4f725ad2e96427f9d6556eceda28429",
      "76904051bfc2438bbc9d9f444f1bb395",
      "913d2af0d06c44508bf4f76526319a67",
      "983b45b0d4b54fd2b620f9e8ae3742f5",
      "942bcbd083404fb0a2de0905a24c0fbf",
      "12b49ba11ec845b5ac6b193082bcb99e",
      "9350717311e448c1aba8723124bc66a2",
      "d117fb8cea22412196871c15a66423c5",
      "cbc30adbe8f6410988a075c48b9fa77d",
      "ca4f00450a4d41008f88b160052aa886",
      "b082069c153d46f7815c66677c238bc3",
      "3eb4e4ff694b4a15a61d4429d487f59e",
      "9038c392b2b74e66bbf302a6fc061040",
      "a005a38b8e6f49a481e94fe2eb63a70b",
      "88e17fe7a3bf41dc8e6165f68f7389ff",
      "230860903b6d45a08c2bba5a780d1e41",
      "634eedeb3a6c4ce39afe4e9a167381e1",
      "d7ae159a239e46c5a75a9b86cfd6c61c",
      "00a31353c3bb4b5ba7c0957b1f2aaeb7",
      "c46c5ec3e0b44259a7747c0a262afdc6",
      "518df961211a437e9dc7576f2031a410",
      "ed3ac0f640c4450585426c15ca77ae92",
      "0cfad38b7b0f4b8384537946a3a06ee9",
      "1317d46891914d27902610c4c4760b31",
      "36b347fbab7e4d8ea5816953d2c48791",
      "a955318ee59743cc8cf3cf188c3c6eef",
      "00bc16c08717410dbbac1bf14091a38e",
      "ad3921efb82849878e487b8473b41929",
      "ea40b8743ac341e4b1ade96de672df2e",
      "ed052f1c0052409dbfd70f45dce50a00",
      "a84363b4648a42b19b70d3e16ce4ee22",
      "27aeec602f8140aebfb1b185172ce188",
      "da872ebb751f4ce6b787de822c36c748",
      "c6040a9943264eb6acdfd6ccc1427734",
      "84b80f3ebdca4dcb95756c3b16506881",
      "7ed093756d3e4db7bd6f9085d553de51",
      "fc63952604c342448deb98435a33b325",
      "a37eb27d18554cf886155e8d23258860",
      "35c1eafc5bed44de955031929ead4d20",
      "aedf6d3fcd9344909d356c9519eac44e",
      "c71efc2820324313aa129784c29d4008",
      "f8dd6d58b7d74275a19589e239864c53",
      "faf25813de264140b90c6123f409a2ea",
      "cca28bfc31aa464baabc09bdb9c0bf15"
     ]
    },
    "id": "7LKCZr6OCuFX",
    "outputId": "b729af85-7404-45b9-b91c-00fea6bbb859"
   },
   "outputs": [],
   "source": [
    "from transformers import BertTokenizer\n",
    "\n",
    "tokenizer = BertTokenizer.from_pretrained('bert-base-uncased')\n"
   ]
  },
  {
   "cell_type": "code",
   "execution_count": null,
   "metadata": {
    "id": "Ju10w6gnCuid"
   },
   "outputs": [],
   "source": [
    "train_texts, temp_texts, train_labels, temp_labels = train_test_split(\n",
    "    df['text'], df['label'], test_size=0.2, stratify=df['label'], random_state=42)\n",
    "\n",
    "val_texts, test_texts, val_labels, test_labels = train_test_split(\n",
    "    temp_texts, temp_labels, test_size=0.5, stratify=temp_labels, random_state=42)\n"
   ]
  },
  {
   "cell_type": "code",
   "execution_count": null,
   "metadata": {
    "id": "jC6HY3ROCukV"
   },
   "outputs": [],
   "source": [
    "from torch.utils.data import Dataset\n",
    "\n",
    "class NewsDataset(Dataset):\n",
    "    def __init__(self, texts, labels, tokenizer, max_len=512):\n",
    "        self.encodings = tokenizer(texts, truncation=True, padding=True, max_length=max_len)\n",
    "        self.labels = labels\n",
    "\n",
    "    def __getitem__(self, idx):\n",
    "        item = {key: torch.tensor(val[idx]) for key, val in self.encodings.items()}\n",
    "        item['labels'] = torch.tensor(self.labels[idx])\n",
    "        return item\n",
    "\n",
    "    def __len__(self):\n",
    "        return len(self.labels)\n"
   ]
  },
  {
   "cell_type": "code",
   "execution_count": null,
   "metadata": {
    "id": "XkWLBl8oCuml"
   },
   "outputs": [],
   "source": [
    "train_dataset = NewsDataset(train_texts.tolist(), train_labels.tolist(), tokenizer)\n",
    "val_dataset = NewsDataset(val_texts.tolist(), val_labels.tolist(), tokenizer)\n",
    "test_dataset = NewsDataset(test_texts.tolist(), test_labels.tolist(), tokenizer)\n"
   ]
  },
  {
   "cell_type": "code",
   "execution_count": null,
   "metadata": {
    "colab": {
     "base_uri": "https://localhost:8080/",
     "height": 84,
     "referenced_widgets": [
      "ca28b40fcd7a4b8690638cfdb4ccba55",
      "c4ecad93f1bd48a0997544573105d020",
      "a43c46aafc4a4274afcf45e65219f5f1",
      "61ff4012cb704fe49ce2e458da792d00",
      "867605b9091e43eaa0041ddab3f35a0d",
      "683e5d33c5f543608b1f8b1978c3d473",
      "06b9e3de7e0b42a9a931fb9169899083",
      "d9c127e842e34563b7936322ed9fb707",
      "22c23c8842f641399cb019709d3dfaf3",
      "05550b8c570c46ed84f962b2dd6c9c17",
      "1b8f92c3c19b456180f3290f295581ad"
     ]
    },
    "id": "B3f03clqDEbu",
    "outputId": "ddffdf37-b015-4e15-d6c6-3968914c6dc3"
   },
   "outputs": [],
   "source": [
    "from transformers import BertForSequenceClassification\n",
    "\n",
    "model = BertForSequenceClassification.from_pretrained(\"bert-base-uncased\", num_labels=2)\n"
   ]
  },
  {
   "cell_type": "code",
   "execution_count": null,
   "metadata": {
    "id": "k7pk6EQADEy9"
   },
   "outputs": [],
   "source": [
    "def compute_metrics(pred):\n",
    "    labels = pred.label_ids\n",
    "    preds = pred.predictions.argmax(-1)\n",
    "    precision, recall, f1, _ = precision_recall_fscore_support(labels, preds, average='binary')\n",
    "    acc = accuracy_score(labels, preds)\n",
    "    return {\n",
    "        'accuracy': acc,\n",
    "        'f1': f1,\n",
    "        'precision': precision,\n",
    "        'recall': recall\n",
    "    }\n"
   ]
  },
  {
   "cell_type": "code",
   "execution_count": null,
   "metadata": {
    "id": "W-3I8n1-DE1N"
   },
   "outputs": [],
   "source": [
    "from transformers import TrainingArguments\n",
    "\n",
    "training_args = TrainingArguments(\n",
    "    output_dir='./results',\n",
    "    num_train_epochs=3,\n",
    "    per_device_train_batch_size=8,\n",
    "    per_device_eval_batch_size=8,\n",
    "    warmup_steps=10,\n",
    "    weight_decay=0.01,\n",
    "    eval_strategy=\"epoch\",\n",
    "    save_strategy=\"epoch\",  # Changed from \"steps\" to \"epoch\"\n",
    "    logging_dir='./logs',\n",
    "    load_best_model_at_end=True,\n",
    "    save_total_limit=1\n",
    ")"
   ]
  },
  {
   "cell_type": "code",
   "execution_count": null,
   "metadata": {
    "id": "uxwx3Zn1DE3G"
   },
   "outputs": [],
   "source": [
    "from transformers import Trainer\n",
    "\n",
    "trainer = Trainer(\n",
    "    model=model,\n",
    "    args=training_args,\n",
    "    train_dataset=train_dataset,\n",
    "    eval_dataset=val_dataset,\n",
    "    compute_metrics=compute_metrics\n",
    ")\n"
   ]
  },
  {
   "cell_type": "code",
   "execution_count": null,
   "metadata": {
    "colab": {
     "base_uri": "https://localhost:8080/",
     "height": 485
    },
    "id": "zJIKWP4LDE5V",
    "outputId": "2679173b-5da9-4e64-8ded-ff38d8997ebb"
   },
   "outputs": [],
   "source": [
    "trainer.train()\n"
   ]
  },
  {
   "cell_type": "code",
   "execution_count": null,
   "metadata": {
    "colab": {
     "base_uri": "https://localhost:8080/",
     "height": 193
    },
    "id": "iYYEsdfXOPLC",
    "outputId": "fdb2c230-3b1d-434e-c33d-b240a299f575"
   },
   "outputs": [],
   "source": [
    "trainer.evaluate(test_dataset)\n"
   ]
  },
  {
   "cell_type": "code",
   "execution_count": null,
   "metadata": {
    "id": "tyEcy4vFDE7P"
   },
   "outputs": [],
   "source": [
    "def predict_news(text, model, tokenizer):\n",
    "    model.eval()\n",
    "    with torch.no_grad():\n",
    "        inputs = tokenizer(text, return_tensors=\"pt\", truncation=True, padding=True, max_length=512)\n",
    "        outputs = model(**inputs)\n",
    "        probs = torch.softmax(outputs.logits, dim=1)\n",
    "        prediction = torch.argmax(probs).item()\n",
    "        confidence = torch.max(probs).item()\n",
    "    return prediction, confidence\n"
   ]
  },
  {
   "cell_type": "code",
   "execution_count": null,
   "metadata": {
    "colab": {
     "base_uri": "https://localhost:8080/"
    },
    "id": "cDkJSyqUOeJz",
    "outputId": "8cee55f9-3a45-423d-84b5-f8edfa29423e"
   },
   "outputs": [],
   "source": [
    "# Try with a sample news article\n",
    "sample_text = \"The government has announced a new policy for electric vehicles to boost green energy.\"\n",
    "label, confidence = predict_news(sample_text, model, tokenizer)\n",
    "\n",
    "print(\"Prediction:\", \"Real News 🟢\" if label == 1 else \"Fake News 🔴\")\n",
    "print(\"Confidence:\", round(confidence * 100, 2), \"%\")\n"
   ]
  },
  {
   "cell_type": "code",
   "execution_count": null,
   "metadata": {
    "colab": {
     "base_uri": "https://localhost:8080/"
    },
    "id": "n6YX535eO4sy",
    "outputId": "947f6958-f8cf-4684-e538-20d10cc3b7e8"
   },
   "outputs": [],
   "source": [
    "model.save_pretrained(\"./fake_news_model\")\n",
    "tokenizer.save_pretrained(\"./fake_news_model\")\n"
   ]
  },
  {
   "cell_type": "code",
   "execution_count": null,
   "metadata": {
    "colab": {
     "base_uri": "https://localhost:8080/",
     "height": 35
    },
    "id": "7MtVr1aSO4vZ",
    "outputId": "36632489-4529-416b-cf88-c1a3ba795c2a"
   },
   "outputs": [],
   "source": [
    "import shutil\n",
    "shutil.make_archive(\"fake_news_model\", 'zip', \"fake_news_model\")\n"
   ]
  },
  {
   "cell_type": "code",
   "execution_count": null,
   "metadata": {
    "colab": {
     "base_uri": "https://localhost:8080/",
     "height": 34
    },
    "id": "BAvtdLbPO41q",
    "outputId": "30a87d2a-79ec-4dc9-f17d-357bbf8c87ba"
   },
   "outputs": [],
   "source": [
    "from google.colab import files\n",
    "files.download(\"fake_news_model.zip\")\n"
   ]
  }
 ],
 "metadata": {
  "colab": {
   "provenance": []
  },
  "kernelspec": {
   "display_name": "Python 3",
   "name": "python3"
  },
  "language_info": {
   "name": "python"
  }
 },
 "nbformat": 4,
 "nbformat_minor": 0
}
