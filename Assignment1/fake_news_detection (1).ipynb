{
 "cells": [
  {
   "cell_type": "code",
   "execution_count": null,
   "metadata": {
    "executionInfo": {
     "elapsed": 1270,
     "status": "ok",
     "timestamp": 1751094045035,
     "user": {
      "displayName": "Dinesh Naik",
      "userId": "13783487239208188948"
     },
     "user_tz": -330
    },
    "id": "JiRarUu62VeV"
   },
   "outputs": [],
   "source": [
    "import pandas as pd\n",
    "import numpy as np\n",
    "import matplotlib.pyplot as plt\n",
    "import seaborn as sns\n",
    "import nltk\n",
    "import re\n",
    "from sklearn.feature_extraction.text import CountVectorizer, TfidfVectorizer\n",
    "from sklearn.model_selection import train_test_split\n",
    "from sklearn.linear_model import LogisticRegression\n",
    "from sklearn.svm import SVC\n",
    "from wordcloud import WordCloud\n",
    "from sklearn.naive_bayes import MultinomialNB\n",
    "from sklearn.metrics import classification_report, confusion_matrix, accuracy_score\n",
    "from sklearn.model_selection import GridSearchCV, RandomizedSearchCV\n",
    "\n"
   ]
  },
  {
   "cell_type": "code",
   "execution_count": null,
   "metadata": {
    "colab": {
     "base_uri": "https://localhost:8080/"
    },
    "executionInfo": {
     "elapsed": 8,
     "status": "ok",
     "timestamp": 1751094045036,
     "user": {
      "displayName": "Dinesh Naik",
      "userId": "13783487239208188948"
     },
     "user_tz": -330
    },
    "id": "rZCQQC7n35tf",
    "outputId": "1c2ac7bb-5e56-449c-e2be-57abdd62e366"
   },
   "outputs": [],
   "source": [
    "import pandas as pd\n",
    "\n",
    "# Load the training dataset\n",
    "train_df = pd.read_csv(\"train.csv\")\n",
    "\n",
    "# Display first few rows\n",
    "print(train_df.head())\n",
    "\n",
    "# Dataset structure\n",
    "print(train_df.info())\n",
    "\n",
    "# Check class balance\n",
    "print(train_df['target'].value_counts())\n"
   ]
  },
  {
   "cell_type": "code",
   "execution_count": null,
   "metadata": {
    "colab": {
     "base_uri": "https://localhost:8080/"
    },
    "executionInfo": {
     "elapsed": 21,
     "status": "ok",
     "timestamp": 1751094045054,
     "user": {
      "displayName": "Dinesh Naik",
      "userId": "13783487239208188948"
     },
     "user_tz": -330
    },
    "id": "Du6dXInD4724",
    "outputId": "5dca66e5-f99e-4da5-f1b3-1586bf8c9a27"
   },
   "outputs": [],
   "source": [
    "# Null values summary\n",
    "print(train_df.isnull().sum())\n",
    "\n",
    "# Optional: check percentage of missing data\n",
    "print((train_df.isnull().sum() / len(train_df)) * 100)\n"
   ]
  },
  {
   "cell_type": "code",
   "execution_count": null,
   "metadata": {
    "colab": {
     "base_uri": "https://localhost:8080/"
    },
    "executionInfo": {
     "elapsed": 30,
     "status": "ok",
     "timestamp": 1751094045085,
     "user": {
      "displayName": "Dinesh Naik",
      "userId": "13783487239208188948"
     },
     "user_tz": -330
    },
    "id": "ZBtG2XpM5DAX",
    "outputId": "eab28daf-7f9b-48d5-c621-b6df2cb7c134"
   },
   "outputs": [],
   "source": [
    "# Fill missing keywords with \"none\"\n",
    "train_df['keyword'].fillna(\"none\", inplace=True)\n",
    "\n",
    "# Fill missing locations with \"unknown\"\n",
    "train_df['location'].fillna(\"unknown\", inplace=True)\n"
   ]
  },
  {
   "cell_type": "code",
   "execution_count": null,
   "metadata": {
    "colab": {
     "base_uri": "https://localhost:8080/",
     "height": 472
    },
    "executionInfo": {
     "elapsed": 251,
     "status": "ok",
     "timestamp": 1751094045337,
     "user": {
      "displayName": "Dinesh Naik",
      "userId": "13783487239208188948"
     },
     "user_tz": -330
    },
    "id": "hChGNbbf5IJX",
    "outputId": "83a5ad53-b95a-4a64-ee72-ecb8d3d98230"
   },
   "outputs": [],
   "source": [
    "import seaborn as sns\n",
    "import matplotlib.pyplot as plt\n",
    "\n",
    "sns.countplot(x='target', data=train_df)\n",
    "plt.title(\"Distribution of Real (1) vs Fake (0) Tweets\")\n",
    "plt.xlabel(\"Target\")\n",
    "plt.ylabel(\"Count\")\n",
    "plt.show()\n"
   ]
  },
  {
   "cell_type": "code",
   "execution_count": null,
   "metadata": {
    "colab": {
     "base_uri": "https://localhost:8080/",
     "height": 472
    },
    "executionInfo": {
     "elapsed": 468,
     "status": "ok",
     "timestamp": 1751094045824,
     "user": {
      "displayName": "Dinesh Naik",
      "userId": "13783487239208188948"
     },
     "user_tz": -330
    },
    "id": "4sqryzSd5Lp_",
    "outputId": "a3a75e26-e8ea-42ac-9e1a-ffe0392618c0"
   },
   "outputs": [],
   "source": [
    "train_df['text_length'] = train_df['text'].apply(len)\n",
    "\n",
    "sns.histplot(data=train_df, x='text_length', hue='target', bins=30, kde=True)\n",
    "plt.title(\"Tweet Length Distribution by Target\")\n",
    "plt.show()\n"
   ]
  },
  {
   "cell_type": "code",
   "execution_count": null,
   "metadata": {
    "colab": {
     "base_uri": "https://localhost:8080/",
     "height": 572
    },
    "executionInfo": {
     "elapsed": 592,
     "status": "ok",
     "timestamp": 1751094046418,
     "user": {
      "displayName": "Dinesh Naik",
      "userId": "13783487239208188948"
     },
     "user_tz": -330
    },
    "id": "HqoX1ACm5Pqv",
    "outputId": "16719560-e323-4c69-8584-db625c6dd719"
   },
   "outputs": [],
   "source": [
    "# Top 15 keywords in real and fake tweets\n",
    "real_keywords = train_df[train_df['target'] == 1]['keyword'].value_counts().head(15)\n",
    "fake_keywords = train_df[train_df['target'] == 0]['keyword'].value_counts().head(15)\n",
    "\n",
    "# Plot\n",
    "fig, axs = plt.subplots(1, 2, figsize=(16, 6))\n",
    "sns.barplot(x=real_keywords.values, y=real_keywords.index, ax=axs[0])\n",
    "axs[0].set_title(\"Top Keywords in Real Tweets\")\n",
    "\n",
    "sns.barplot(x=fake_keywords.values, y=fake_keywords.index, ax=axs[1])\n",
    "axs[1].set_title(\"Top Keywords in Fake Tweets\")\n",
    "\n",
    "plt.tight_layout()\n",
    "plt.show()\n"
   ]
  },
  {
   "cell_type": "code",
   "execution_count": null,
   "metadata": {
    "colab": {
     "base_uri": "https://localhost:8080/",
     "height": 398
    },
    "executionInfo": {
     "elapsed": 3504,
     "status": "ok",
     "timestamp": 1751094049940,
     "user": {
      "displayName": "Dinesh Naik",
      "userId": "13783487239208188948"
     },
     "user_tz": -330
    },
    "id": "xKu7IzMa5SkI",
    "outputId": "758718e3-6205-491a-866b-3a12384e4f16"
   },
   "outputs": [],
   "source": [
    "from wordcloud import WordCloud\n",
    "\n",
    "# Join all texts\n",
    "real_words = \" \".join(train_df[train_df['target'] == 1]['text'].astype(str))\n",
    "fake_words = \" \".join(train_df[train_df['target'] == 0]['text'].astype(str))\n",
    "\n",
    "# Generate word clouds\n",
    "plt.figure(figsize=(14, 6))\n",
    "\n",
    "plt.subplot(1, 2, 1)\n",
    "wordcloud_real = WordCloud(width=800, height=400, background_color='white').generate(real_words)\n",
    "plt.imshow(wordcloud_real, interpolation='bilinear')\n",
    "plt.title(\"Real Tweets Word Cloud\")\n",
    "plt.axis('off')\n",
    "\n",
    "plt.subplot(1, 2, 2)\n",
    "wordcloud_fake = WordCloud(width=800, height=400, background_color='white').generate(fake_words)\n",
    "plt.imshow(wordcloud_fake, interpolation='bilinear')\n",
    "plt.title(\"Fake Tweets Word Cloud\")\n",
    "plt.axis('off')\n",
    "\n",
    "plt.tight_layout()\n",
    "plt.show()\n"
   ]
  },
  {
   "cell_type": "code",
   "execution_count": null,
   "metadata": {
    "colab": {
     "base_uri": "https://localhost:8080/"
    },
    "executionInfo": {
     "elapsed": 2305,
     "status": "ok",
     "timestamp": 1751094052249,
     "user": {
      "displayName": "Dinesh Naik",
      "userId": "13783487239208188948"
     },
     "user_tz": -330
    },
    "id": "wgNY4p1z5hiw",
    "outputId": "853bcf19-a8f5-49d8-b69d-7112de10ad3e"
   },
   "outputs": [],
   "source": [
    "import re\n",
    "import nltk\n",
    "from nltk.corpus import stopwords\n",
    "from nltk.stem import PorterStemmer, WordNetLemmatizer\n",
    "import spacy\n",
    "from wordcloud import WordCloud\n",
    "import matplotlib.pyplot as plt\n",
    "\n",
    "# Download required resources\n",
    "nltk.download('stopwords')\n",
    "nltk.download('punkt')\n",
    "nltk.download('wordnet')\n",
    "nltk.download('punkt_tab') # Download punkt_tab resource\n",
    "\n",
    "# Load spacy English model\n",
    "nlp = spacy.load('en_core_web_sm')\n",
    "\n",
    "# Initialize stemmer and lemmatizer\n",
    "stemmer = PorterStemmer()\n",
    "lemmatizer = WordNetLemmatizer()\n",
    "stop_words = set(stopwords.words('english'))"
   ]
  },
  {
   "cell_type": "code",
   "execution_count": null,
   "metadata": {
    "executionInfo": {
     "elapsed": 54577,
     "status": "ok",
     "timestamp": 1751094106829,
     "user": {
      "displayName": "Dinesh Naik",
      "userId": "13783487239208188948"
     },
     "user_tz": -330
    },
    "id": "5GTvWO2V5mxX"
   },
   "outputs": [],
   "source": [
    "def preprocess_text(text):\n",
    "    # Remove punctuation, numbers, special characters\n",
    "    text = re.sub(r'[^a-zA-Z\\s]', '', text)\n",
    "\n",
    "    # Lowercase\n",
    "    text = text.lower()\n",
    "\n",
    "    # Tokenize\n",
    "    tokens = nltk.word_tokenize(text)\n",
    "\n",
    "    # Remove stopwords\n",
    "    filtered = [word for word in tokens if word not in stop_words]\n",
    "\n",
    "    # Apply stemming\n",
    "    stemmed = [stemmer.stem(word) for word in filtered]\n",
    "\n",
    "    # Apply lemmatization using SpaCy\n",
    "    doc = nlp(\" \".join(stemmed))\n",
    "    lemmatized = [token.lemma_ for token in doc]\n",
    "\n",
    "    return \" \".join(lemmatized)\n",
    "\n",
    "\n",
    "# Apply preprocessing to the text column\n",
    "train_df['clean_text'] = train_df['text'].apply(preprocess_text)\n",
    "\n"
   ]
  },
  {
   "cell_type": "code",
   "execution_count": null,
   "metadata": {
    "colab": {
     "base_uri": "https://localhost:8080/",
     "height": 606
    },
    "executionInfo": {
     "elapsed": 2751,
     "status": "ok",
     "timestamp": 1751094109571,
     "user": {
      "displayName": "Dinesh Naik",
      "userId": "13783487239208188948"
     },
     "user_tz": -330
    },
    "id": "EwxsNbXd6Q_Y",
    "outputId": "019fde0a-ef8a-4890-bac7-ecb0f6701701"
   },
   "outputs": [],
   "source": [
    "# Join all cleaned text\n",
    "all_words = \" \".join(train_df['clean_text'])\n",
    "\n",
    "# Generate and show wordcloud\n",
    "wordcloud = WordCloud(width=1000, height=500, background_color='white').generate(all_words)\n",
    "\n",
    "plt.figure(figsize=(15, 7))\n",
    "plt.imshow(wordcloud, interpolation='bilinear')\n",
    "plt.title(\"Most Frequent Words in Cleaned Tweets\", fontsize=20)\n",
    "plt.axis('off')\n",
    "plt.show()\n"
   ]
  },
  {
   "cell_type": "code",
   "execution_count": null,
   "metadata": {
    "colab": {
     "base_uri": "https://localhost:8080/"
    },
    "executionInfo": {
     "elapsed": 13,
     "status": "ok",
     "timestamp": 1751094109592,
     "user": {
      "displayName": "Dinesh Naik",
      "userId": "13783487239208188948"
     },
     "user_tz": -330
    },
    "id": "2AphBPff6VCo",
    "outputId": "602d03d3-ace8-4bf9-b82c-2c97956c02b4"
   },
   "outputs": [],
   "source": [
    "from sklearn.feature_extraction.text import CountVectorizer\n",
    "\n",
    "# Initialize vectorizer\n",
    "count_vec = CountVectorizer(max_features=5000)  # You can tune this\n",
    "\n",
    "# Fit and transform\n",
    "X_count = count_vec.fit_transform(train_df['clean_text'])\n",
    "\n",
    "print(\"CountVectorizer shape:\", X_count.shape)\n"
   ]
  },
  {
   "cell_type": "code",
   "execution_count": null,
   "metadata": {
    "colab": {
     "base_uri": "https://localhost:8080/"
    },
    "executionInfo": {
     "elapsed": 7,
     "status": "ok",
     "timestamp": 1751094109596,
     "user": {
      "displayName": "Dinesh Naik",
      "userId": "13783487239208188948"
     },
     "user_tz": -330
    },
    "id": "lK8iG04X6f_2",
    "outputId": "2223b510-6d45-4a1b-b30f-e19513acc1c9"
   },
   "outputs": [],
   "source": [
    "from sklearn.feature_extraction.text import TfidfVectorizer\n",
    "\n",
    "# Initialize TF-IDF Vectorizer\n",
    "tfidf_vec = TfidfVectorizer(max_features=5000)\n",
    "\n",
    "# Fit and transform\n",
    "X_tfidf = tfidf_vec.fit_transform(train_df['clean_text'])\n",
    "\n",
    "print(\"TF-IDF shape:\", X_tfidf.shape)\n"
   ]
  },
  {
   "cell_type": "code",
   "execution_count": null,
   "metadata": {
    "executionInfo": {
     "elapsed": 2,
     "status": "ok",
     "timestamp": 1751094109599,
     "user": {
      "displayName": "Dinesh Naik",
      "userId": "13783487239208188948"
     },
     "user_tz": -330
    },
    "id": "QersDk3271Gu"
   },
   "outputs": [],
   "source": [
    "y = train_df['target']\n"
   ]
  },
  {
   "cell_type": "code",
   "execution_count": null,
   "metadata": {
    "colab": {
     "base_uri": "https://localhost:8080/",
     "height": 299,
     "referenced_widgets": [
      "f5746aca5a9a488184d8260af452ce5e",
      "103772cb31174b06abc126a973d8655b",
      "9a5d5c4560f142aaa498ad7564dceb5e",
      "87040cba12814c2784bdb984acdc4bbe",
      "9fa426f4fc5a4db891bc1d0746ed67da",
      "207a21ed1a9f4212a8a88c9d65d80561",
      "b13e96991cfd4f5d910822187d2c9e6d",
      "7a119d1fb0924742aef4e737caa55874",
      "912d55a220d542288fe0df988e133b4a",
      "3702758b862b47bcb9bd70920924b00c",
      "298593742cbb4a469caf6e12f1d26a30",
      "2a723a890e404a86bef52ea4c864b35e",
      "fa2f6f05e8984689b35c77dff96a482a",
      "71f1d054a0c64e95a33a8b81585f08d3",
      "8c15d725a9484da4b477560c088cb0e8",
      "1f935e9869dd48c293abcdd764b60975",
      "6b34c61f147548e3857ddb9751644557",
      "248d4b27992644f487bf6e9fc9db810f",
      "57d7ca4c64244b66890bf05aeea12342",
      "11fe981b01c141efb47d90527c538441",
      "137e13ead15545d78221a94158372ab1",
      "e66c84e65fa145e487d1b360276b735c",
      "d4a4933ca1934b5e856694a9e5c8cd0e",
      "52a9885b2dad4f64a0f06c0c1b003a8f",
      "ac8317374d9040b0b659aa5c99ddab1f",
      "3c406dae7fc24fab961bd52e551c4ea5",
      "b0457725af474013898051d4eed57c80",
      "d903c7f767bc41ed8eeaaab5e00a70a2",
      "d4262e75ce01442aa493e8aaa2f24f69",
      "ff78a5be6cbf4aefb5e6aa97b08854b2",
      "341f1dd34d774ef0934aede797c0a649",
      "0ff21b8b2c7349799e98598b9135fcbe",
      "a0f33f23668b4644b7567c1b7f8e83ec",
      "debaece1bc2342f8b0c18bbca68f5965",
      "2771e63a9fe747bba171217e3455294b",
      "e3c3f5abd34d4056a946508b9ed559e8",
      "10ab9324218b4b219e85eee139473702",
      "1d486d3a19b944f791fb83d8b5798e9b",
      "f7acbf51582b432f96c99bbb63f525f3",
      "1f8e304a45134717b31a82e55437f884",
      "dfe60b01a21443e3b87012fe5eff0ba2",
      "bb972bc24f624c9f8b82874187a6c38c",
      "6a45fd81fac14120a59fad17209a0fdc",
      "9971fe1b77404437a29d6d4625161fa9",
      "bc1bc2f83ede49bab219896be56c179c",
      "35144137a8fa48a1ae30922f2f54ad41",
      "d2e9ea9e22bd426f8d8228d6188e1b45",
      "f49f36665bde45c6a988a51c458f6987",
      "7306659a3f5b49819fe0f199aa7dd37b",
      "a367552c8d11414ca761d406b349aa01",
      "e25a6f228c294fad93175235a86b8038",
      "f75dafa344c845b5a171449df05a5bdc",
      "f76d29e4b1c34551a1bca5b64cc59b84",
      "68cd60143a51470cbf4feb90952b9239",
      "da50aa11cc1441789e9626d98d737985"
     ]
    },
    "executionInfo": {
     "elapsed": 28458,
     "status": "ok",
     "timestamp": 1751094138056,
     "user": {
      "displayName": "Dinesh Naik",
      "userId": "13783487239208188948"
     },
     "user_tz": -330
    },
    "id": "xdlPf6EP6oN_",
    "outputId": "1013488d-ff9c-42b6-8060-a550738b5426"
   },
   "outputs": [],
   "source": [
    "from transformers import BertTokenizer, BertModel\n",
    "import torch\n",
    "\n",
    "# Load pre-trained BERT\n",
    "tokenizer = BertTokenizer.from_pretrained('bert-base-uncased')\n",
    "bert_model = BertModel.from_pretrained('bert-base-uncased')\n",
    "\n",
    "def get_bert_embedding(text):\n",
    "    inputs = tokenizer(text, return_tensors='pt', truncation=True, padding=True, max_length=64)\n",
    "    with torch.no_grad():\n",
    "        outputs = bert_model(**inputs)\n",
    "    return outputs.last_hidden_state[:, 0, :].squeeze().numpy()  # CLS token\n",
    "\n",
    "# Apply to a sample of tweets (BERT is slow)\n",
    "X_bert = np.vstack(train_df['clean_text'].head(100).apply(get_bert_embedding))\n",
    "\n",
    "print(\"BERT Embedding shape (sample):\", X_bert.shape)\n"
   ]
  },
  {
   "cell_type": "code",
   "execution_count": null,
   "metadata": {
    "executionInfo": {
     "elapsed": 6,
     "status": "ok",
     "timestamp": 1751094138065,
     "user": {
      "displayName": "Dinesh Naik",
      "userId": "13783487239208188948"
     },
     "user_tz": -330
    },
    "id": "w0iz9CYJ8jiF"
   },
   "outputs": [],
   "source": [
    "X = X_tfidf  # or X_count, X_w2v, etc.\n",
    "y = train_df['target']\n",
    "\n",
    "# Train-test split (80-20)\n",
    "X_train, X_test, y_train, y_test = train_test_split(X, y, test_size=0.2, random_state=42)\n"
   ]
  },
  {
   "cell_type": "code",
   "execution_count": null,
   "metadata": {
    "executionInfo": {
     "elapsed": 48,
     "status": "ok",
     "timestamp": 1751094138114,
     "user": {
      "displayName": "Dinesh Naik",
      "userId": "13783487239208188948"
     },
     "user_tz": -330
    },
    "id": "n0YzbmlZ8qPT"
   },
   "outputs": [],
   "source": [
    "lr_model = LogisticRegression(max_iter=1000)\n",
    "lr_model.fit(X_train, y_train)\n",
    "lr_preds = lr_model.predict(X_test)\n"
   ]
  },
  {
   "cell_type": "code",
   "execution_count": null,
   "metadata": {
    "executionInfo": {
     "elapsed": 2687,
     "status": "ok",
     "timestamp": 1751094140806,
     "user": {
      "displayName": "Dinesh Naik",
      "userId": "13783487239208188948"
     },
     "user_tz": -330
    },
    "id": "MzXSay2H8qWN"
   },
   "outputs": [],
   "source": [
    "svm_model = SVC(kernel='linear')  # or 'rbf'\n",
    "svm_model.fit(X_train, y_train)\n",
    "svm_preds = svm_model.predict(X_test)\n"
   ]
  },
  {
   "cell_type": "code",
   "execution_count": null,
   "metadata": {
    "executionInfo": {
     "elapsed": 7,
     "status": "ok",
     "timestamp": 1751094140816,
     "user": {
      "displayName": "Dinesh Naik",
      "userId": "13783487239208188948"
     },
     "user_tz": -330
    },
    "id": "TOp0EXd78qY4"
   },
   "outputs": [],
   "source": [
    "nb_model = MultinomialNB()\n",
    "nb_model.fit(X_train, y_train)\n",
    "nb_preds = nb_model.predict(X_test)\n"
   ]
  },
  {
   "cell_type": "code",
   "execution_count": null,
   "metadata": {
    "executionInfo": {
     "elapsed": 7,
     "status": "ok",
     "timestamp": 1751094140824,
     "user": {
      "displayName": "Dinesh Naik",
      "userId": "13783487239208188948"
     },
     "user_tz": -330
    },
    "id": "2XJ9QWTC8qbM"
   },
   "outputs": [],
   "source": [
    "def evaluate_model(y_true, y_pred, model_name):\n",
    "    print(f\"\\n{model_name} Performance:\")\n",
    "    print(\"Accuracy:\", accuracy_score(y_true, y_pred))\n",
    "    print(classification_report(y_true, y_pred))\n",
    "\n",
    "    # Confusion Matrix\n",
    "    cm = confusion_matrix(y_true, y_pred)\n",
    "    sns.heatmap(cm, annot=True, fmt='d', cmap='Blues')\n",
    "    plt.title(f\"{model_name} - Confusion Matrix\")\n",
    "    plt.xlabel(\"Predicted\")\n",
    "    plt.ylabel(\"Actual\")\n",
    "    plt.show()\n"
   ]
  },
  {
   "cell_type": "code",
   "execution_count": null,
   "metadata": {
    "colab": {
     "base_uri": "https://localhost:8080/",
     "height": 1000
    },
    "executionInfo": {
     "elapsed": 395,
     "status": "ok",
     "timestamp": 1751094141220,
     "user": {
      "displayName": "Dinesh Naik",
      "userId": "13783487239208188948"
     },
     "user_tz": -330
    },
    "id": "vXPMcJBU8qdE",
    "outputId": "f51b5392-e668-4450-d91d-4cc385a26566"
   },
   "outputs": [],
   "source": [
    "evaluate_model(y_test, lr_preds, \"Logistic Regression\")\n",
    "evaluate_model(y_test, svm_preds, \"SVM\")\n",
    "evaluate_model(y_test, nb_preds, \"Naive Bayes\")\n"
   ]
  },
  {
   "cell_type": "code",
   "execution_count": null,
   "metadata": {
    "colab": {
     "base_uri": "https://localhost:8080/"
    },
    "executionInfo": {
     "elapsed": 2551,
     "status": "ok",
     "timestamp": 1751094143773,
     "user": {
      "displayName": "Dinesh Naik",
      "userId": "13783487239208188948"
     },
     "user_tz": -330
    },
    "id": "SzGUiYUh8qfb",
    "outputId": "20147b7a-1162-4c6d-bbc6-7ff0a5beef3f"
   },
   "outputs": [],
   "source": [
    "lr_params = {\n",
    "    'C': [0.01, 0.1, 1, 10],\n",
    "    'penalty': ['l2'],\n",
    "    'solver': ['liblinear', 'lbfgs']\n",
    "}\n",
    "\n",
    "lr_grid = GridSearchCV(LogisticRegression(max_iter=1000), lr_params, cv=5, scoring='f1', n_jobs=-1)\n",
    "lr_grid.fit(X_train, y_train)\n",
    "\n",
    "print(\"Best Parameters (Logistic Regression):\", lr_grid.best_params_)\n",
    "lr_best_model = lr_grid.best_estimator_\n",
    "lr_best_preds = lr_best_model.predict(X_test)\n"
   ]
  },
  {
   "cell_type": "code",
   "execution_count": null,
   "metadata": {
    "colab": {
     "base_uri": "https://localhost:8080/"
    },
    "executionInfo": {
     "elapsed": 111238,
     "status": "ok",
     "timestamp": 1751094255013,
     "user": {
      "displayName": "Dinesh Naik",
      "userId": "13783487239208188948"
     },
     "user_tz": -330
    },
    "id": "0lD0lHUS8qjk",
    "outputId": "0e5c6039-2b1b-4448-d190-d2624760820b"
   },
   "outputs": [],
   "source": [
    "svm_params = {\n",
    "    'C': [0.1, 1, 10],\n",
    "    'kernel': ['linear', 'rbf'],\n",
    "    'gamma': ['scale', 'auto']\n",
    "}\n",
    "\n",
    "svm_grid = GridSearchCV(SVC(), svm_params, cv=5, scoring='f1', n_jobs=-1)\n",
    "svm_grid.fit(X_train, y_train)\n",
    "\n",
    "print(\"Best Parameters (SVM):\", svm_grid.best_params_)\n",
    "svm_best_model = svm_grid.best_estimator_\n",
    "svm_best_preds = svm_best_model.predict(X_test)\n"
   ]
  },
  {
   "cell_type": "code",
   "execution_count": null,
   "metadata": {
    "colab": {
     "base_uri": "https://localhost:8080/"
    },
    "executionInfo": {
     "elapsed": 154,
     "status": "ok",
     "timestamp": 1751094255169,
     "user": {
      "displayName": "Dinesh Naik",
      "userId": "13783487239208188948"
     },
     "user_tz": -330
    },
    "id": "MYOdYPw38ql3",
    "outputId": "cf411724-d0f3-467c-f63a-507fe7abc833"
   },
   "outputs": [],
   "source": [
    "nb_params = {\n",
    "    'alpha': [0.01, 0.1, 1, 2, 5]\n",
    "}\n",
    "\n",
    "nb_grid = GridSearchCV(MultinomialNB(), nb_params, cv=5, scoring='f1', n_jobs=-1)\n",
    "nb_grid.fit(X_train, y_train)\n",
    "\n",
    "print(\"Best Parameters (Naive Bayes):\", nb_grid.best_params_)\n",
    "nb_best_model = nb_grid.best_estimator_\n",
    "nb_best_preds = nb_best_model.predict(X_test)\n"
   ]
  },
  {
   "cell_type": "code",
   "execution_count": null,
   "metadata": {
    "colab": {
     "base_uri": "https://localhost:8080/",
     "height": 1000
    },
    "executionInfo": {
     "elapsed": 456,
     "status": "ok",
     "timestamp": 1751094255627,
     "user": {
      "displayName": "Dinesh Naik",
      "userId": "13783487239208188948"
     },
     "user_tz": -330
    },
    "id": "rnRqDcFw8qn_",
    "outputId": "8db7fcdb-5c09-4400-83b2-bc454a124143"
   },
   "outputs": [],
   "source": [
    "evaluate_model(y_test, lr_best_preds, \"Logistic Regression (Tuned)\")\n",
    "evaluate_model(y_test, svm_best_preds, \"SVM (Tuned)\")\n",
    "evaluate_model(y_test, nb_best_preds, \"Naive Bayes (Tuned)\")\n"
   ]
  },
  {
   "cell_type": "code",
   "execution_count": null,
   "metadata": {
    "colab": {
     "base_uri": "https://localhost:8080/"
    },
    "executionInfo": {
     "elapsed": 46,
     "status": "ok",
     "timestamp": 1751094255627,
     "user": {
      "displayName": "Dinesh Naik",
      "userId": "13783487239208188948"
     },
     "user_tz": -330
    },
    "id": "Usj2D8Bn8qqc",
    "outputId": "1e49ce92-1638-4cbd-f9c7-688c432d4dd4"
   },
   "outputs": [],
   "source": [
    "models = {\n",
    "    \"Logistic Regression (Tuned)\": lr_best_preds,\n",
    "    \"SVM (Tuned)\": svm_best_preds,\n",
    "    \"Naive Bayes (Tuned)\": nb_best_preds\n",
    "}\n",
    "\n",
    "for name, preds in models.items():\n",
    "    acc = accuracy_score(y_test, preds)\n",
    "    print(f\"{name}: Accuracy = {acc:.4f}\")\n"
   ]
  },
  {
   "cell_type": "code",
   "execution_count": null,
   "metadata": {
    "colab": {
     "base_uri": "https://localhost:8080/",
     "height": 0
    },
    "executionInfo": {
     "elapsed": 132,
     "status": "ok",
     "timestamp": 1751094255757,
     "user": {
      "displayName": "Dinesh Naik",
      "userId": "13783487239208188948"
     },
     "user_tz": -330
    },
    "id": "iy3fVTB88qsz",
    "outputId": "a68212d5-61f7-4836-9eac-30c8e0f4e7c5"
   },
   "outputs": [],
   "source": [
    "from sklearn.metrics import roc_curve, auc\n",
    "\n",
    "def plot_roc_curve(model, X_test, y_test, label):\n",
    "    y_proba = model.predict_proba(X_test)[:, 1]\n",
    "    fpr, tpr, _ = roc_curve(y_test, y_proba)\n",
    "    roc_auc = auc(fpr, tpr)\n",
    "\n",
    "    plt.plot(fpr, tpr, label=f\"{label} (AUC = {roc_auc:.2f})\")\n",
    "\n",
    "plt.figure(figsize=(8, 6))\n",
    "\n",
    "plot_roc_curve(lr_best_model, X_test, y_test, \"Logistic Regression\")\n",
    "plot_roc_curve(nb_best_model, X_test, y_test, \"Naive Bayes\")\n",
    "\n",
    "# SVM doesn’t support predict_proba by default, skip or use `probability=True` when training\n",
    "# plot_roc_curve(svm_best_model, X_test, y_test, \"SVM\")\n",
    "\n",
    "plt.plot([0, 1], [0, 1], linestyle='--')\n",
    "plt.xlabel('False Positive Rate')\n",
    "plt.ylabel('True Positive Rate')\n",
    "plt.title('ROC Curves')\n",
    "plt.legend()\n",
    "plt.grid(True)\n",
    "plt.show()\n"
   ]
  },
  {
   "cell_type": "code",
   "execution_count": null,
   "metadata": {
    "colab": {
     "base_uri": "https://localhost:8080/",
     "height": 0
    },
    "executionInfo": {
     "elapsed": 143,
     "status": "ok",
     "timestamp": 1751094255901,
     "user": {
      "displayName": "Dinesh Naik",
      "userId": "13783487239208188948"
     },
     "user_tz": -330
    },
    "id": "PBTTLz8G8qvP",
    "outputId": "f99f61c7-e111-496c-f318-ed6307fb3472"
   },
   "outputs": [],
   "source": [
    "from sklearn.metrics import precision_recall_curve\n",
    "\n",
    "def plot_pr_curve(model, X_test, y_test, label):\n",
    "    y_proba = model.predict_proba(X_test)[:, 1]\n",
    "    precision, recall, _ = precision_recall_curve(y_test, y_proba)\n",
    "    plt.plot(recall, precision, label=label)\n",
    "\n",
    "plt.figure(figsize=(8, 6))\n",
    "\n",
    "plot_pr_curve(lr_best_model, X_test, y_test, \"Logistic Regression\")\n",
    "plot_pr_curve(nb_best_model, X_test, y_test, \"Naive Bayes\")\n",
    "\n",
    "plt.xlabel(\"Recall\")\n",
    "plt.ylabel(\"Precision\")\n",
    "plt.title(\"Precision-Recall Curves\")\n",
    "plt.legend()\n",
    "plt.grid(True)\n",
    "plt.show()\n"
   ]
  },
  {
   "cell_type": "code",
   "execution_count": null,
   "metadata": {
    "colab": {
     "base_uri": "https://localhost:8080/",
     "height": 472
    },
    "executionInfo": {
     "elapsed": 157,
     "status": "ok",
     "timestamp": 1751094256060,
     "user": {
      "displayName": "Dinesh Naik",
      "userId": "13783487239208188948"
     },
     "user_tz": -330
    },
    "id": "pAG4v8F78qxo",
    "outputId": "c09f1fee-4753-4dee-f573-111bf7c32d2c"
   },
   "outputs": [],
   "source": [
    "def plot_conf_matrix(y_true, y_pred, title):\n",
    "    cm = confusion_matrix(y_true, y_pred)\n",
    "    sns.heatmap(cm, annot=True, fmt='d', cmap='Purples', xticklabels=[\"Pred 0\", \"Pred 1\"], yticklabels=[\"True 0\", \"True 1\"])\n",
    "    plt.title(f\"Confusion Matrix: {title}\")\n",
    "    plt.xlabel(\"Predicted\")\n",
    "    plt.ylabel(\"Actual\")\n",
    "    plt.show()\n",
    "\n",
    "# Example\n",
    "plot_conf_matrix(y_test, lr_best_preds, \"Logistic Regression (Tuned)\")\n"
   ]
  },
  {
   "cell_type": "code",
   "execution_count": null,
   "metadata": {
    "colab": {
     "base_uri": "https://localhost:8080/"
    },
    "executionInfo": {
     "elapsed": 9,
     "status": "ok",
     "timestamp": 1751094256061,
     "user": {
      "displayName": "Dinesh Naik",
      "userId": "13783487239208188948"
     },
     "user_tz": -330
    },
    "id": "A0HZFgW98q0U",
    "outputId": "6fd5b75c-a08a-4142-c434-7cc5d8a4cad2"
   },
   "outputs": [],
   "source": [
    "# Get misclassified indices\n",
    "misclassified_idx = (y_test != lr_best_preds)\n",
    "\n",
    "# Show 5 examples\n",
    "misclassified_df = train_df.iloc[y_test[misclassified_idx].index]\n",
    "misclassified_df['actual'] = y_test[misclassified_idx]\n",
    "misclassified_df['predicted'] = lr_best_preds[misclassified_idx]\n",
    "\n",
    "print(misclassified_df[['text', 'clean_text', 'actual', 'predicted']].head())\n"
   ]
  },
  {
   "cell_type": "code",
   "execution_count": null,
   "metadata": {
    "colab": {
     "base_uri": "https://localhost:8080/"
    },
    "executionInfo": {
     "elapsed": 7278,
     "status": "ok",
     "timestamp": 1751094263336,
     "user": {
      "displayName": "Dinesh Naik",
      "userId": "13783487239208188948"
     },
     "user_tz": -330
    },
    "id": "Cb87IJuQBR4V",
    "outputId": "eb2bf805-5302-4b53-d7dd-5ce7a85b253b"
   },
   "outputs": [],
   "source": [
    "!pip install flask flask-ngrok pyngrok joblib\n"
   ]
  },
  {
   "cell_type": "code",
   "execution_count": null,
   "metadata": {
    "colab": {
     "base_uri": "https://localhost:8080/"
    },
    "executionInfo": {
     "elapsed": 32,
     "status": "ok",
     "timestamp": 1751094263367,
     "user": {
      "displayName": "Dinesh Naik",
      "userId": "13783487239208188948"
     },
     "user_tz": -330
    },
    "id": "IROMuD-kBUZD",
    "outputId": "fecf064a-f581-4b0e-e974-2b53c590443b"
   },
   "outputs": [],
   "source": [
    "import joblib\n",
    "# Save your model and vectorizer\n",
    "joblib.dump(lr_best_model, 'fake_news_model.pkl')\n",
    "joblib.dump(tfidf_vec, 'tfidf_vectorizer.pkl')\n"
   ]
  },
  {
   "cell_type": "code",
   "execution_count": null,
   "metadata": {
    "colab": {
     "base_uri": "https://localhost:8080/"
    },
    "executionInfo": {
     "elapsed": 792,
     "status": "ok",
     "timestamp": 1751094264159,
     "user": {
      "displayName": "Dinesh Naik",
      "userId": "13783487239208188948"
     },
     "user_tz": -330
    },
    "id": "6mWYwdkeDcaz",
    "outputId": "e44d12b8-9bb9-47b2-cd97-e7d01912b46d"
   },
   "outputs": [],
   "source": [
    "from pyngrok import ngrok\n",
    "\n",
    "# Set your ngrok authtoken\n",
    "ngrok.set_auth_token(\"2z7jUIcLsxDTqeu3riJa11NaKc8_7oiCAxn7stu3i3jmfWcnx\")  # Paste your token here\n"
   ]
  },
  {
   "cell_type": "code",
   "execution_count": null,
   "metadata": {
    "colab": {
     "base_uri": "https://localhost:8080/"
    },
    "executionInfo": {
     "elapsed": 12,
     "status": "ok",
     "timestamp": 1751094264174,
     "user": {
      "displayName": "Dinesh Naik",
      "userId": "13783487239208188948"
     },
     "user_tz": -330
    },
    "id": "4dWpeJUrBUhM",
    "outputId": "0ed82f17-2627-488c-e130-5bf77d6542cf"
   },
   "outputs": [],
   "source": [
    "%%writefile app.py\n",
    "from flask import Flask, request, render_template_string\n",
    "import joblib, re, nltk, spacy\n",
    "from nltk.corpus import stopwords\n",
    "from nltk.stem import PorterStemmer, WordNetLemmatizer\n",
    "\n",
    "# NLTK + Spacy setup\n",
    "nltk.download('punkt')\n",
    "nltk.download('stopwords')\n",
    "nltk.download('wordnet')\n",
    "stop_words = set(stopwords.words('english'))\n",
    "stemmer = PorterStemmer()\n",
    "lemmatizer = WordNetLemmatizer()\n",
    "nlp = spacy.load('en_core_web_sm')\n",
    "\n",
    "# Load model and vectorizer\n",
    "model = joblib.load(\"fake_news_model.pkl\")\n",
    "vectorizer = joblib.load(\"tfidf_vectorizer.pkl\")\n",
    "\n",
    "# Preprocessing\n",
    "def preprocess(text):\n",
    "    text = re.sub(r'[^a-zA-Z\\s]', '', text.lower())\n",
    "    tokens = nltk.word_tokenize(text)\n",
    "    tokens = [stemmer.stem(w) for w in tokens if w not in stop_words]\n",
    "    doc = nlp(\" \".join(tokens))\n",
    "    lemmas = [token.lemma_ for token in doc]\n",
    "    return \" \".join(lemmas)\n",
    "\n",
    "# Flask app\n",
    "app = Flask(__name__)\n",
    "\n",
    "HTML = '''\n",
    "<h2>Fake News Detector</h2>\n",
    "<form method=\"POST\">\n",
    "  <textarea name=\"tweet\" rows=\"6\" cols=\"60\" placeholder=\"Enter tweet...\">{{tweet}}</textarea><br><br>\n",
    "  <input type=\"submit\" value=\"Predict\">\n",
    "</form>\n",
    "{% if prediction %}\n",
    "<h3>Prediction: <span style=\"color:blue\">{{ prediction }}</span></h3>\n",
    "{% endif %}\n",
    "'''\n",
    "\n",
    "@app.route(\"/\", methods=[\"GET\", \"POST\"])\n",
    "def index():\n",
    "    tweet = \"\"\n",
    "    prediction = None\n",
    "    if request.method == \"POST\":\n",
    "        tweet = request.form[\"tweet\"]\n",
    "        cleaned = preprocess(tweet)\n",
    "        vector = vectorizer.transform([cleaned])\n",
    "        pred = model.predict(vector)[0]\n",
    "        prediction = \"Real (Disaster)\" if pred == 1 else \"Fake\"\n",
    "    return render_template_string(HTML, tweet=tweet, prediction=prediction)\n"
   ]
  },
  {
   "cell_type": "code",
   "execution_count": null,
   "metadata": {
    "colab": {
     "base_uri": "https://localhost:8080/"
    },
    "executionInfo": {
     "elapsed": 419,
     "status": "ok",
     "timestamp": 1751094264595,
     "user": {
      "displayName": "Dinesh Naik",
      "userId": "13783487239208188948"
     },
     "user_tz": -330
    },
    "id": "UVw4qw4JCGIc",
    "outputId": "fc625b1c-4501-4c0d-8b1c-1afa45f3c815"
   },
   "outputs": [],
   "source": [
    "from pyngrok import ngrok\n",
    "import os\n",
    "\n",
    "# Kill any previous tunnels\n",
    "ngrok.kill()\n",
    "\n",
    "# Start Flask app\n",
    "os.system(\"flask run --host=0.0.0.0 &\")\n",
    "\n",
    "# Connect ngrok to the running flask app\n",
    "public_url = ngrok.connect(5000)\n",
    "print(\"🚀 App is live at:\", public_url)\n"
   ]
  }
 ],
 "metadata": {
  "accelerator": "GPU",
  "colab": {
   "authorship_tag": "ABX9TyOqVeD/fXSsAy/9WsbRRJrt",
   "gpuType": "T4",
   "provenance": []
  },
  "kernelspec": {
   "display_name": "Python 3",
   "name": "python3"
  },
  "language_info": {
   "name": "python"
  }
 },
 "nbformat": 4,
 "nbformat_minor": 0
}
